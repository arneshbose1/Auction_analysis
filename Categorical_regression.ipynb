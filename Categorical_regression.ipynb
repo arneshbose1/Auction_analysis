{
 "cells": [
  {
   "cell_type": "code",
   "execution_count": null,
   "id": "3c496627",
   "metadata": {},
   "outputs": [],
   "source": [
    "import pandas as pd\n",
    "import numpy as np\n",
    "from sklearn.linear_model import LinearRegression, BayesianRidge\n",
    "from sklearn.ensemble import RandomForestRegressor\n",
    "from xgboost import XGBRegressor\n",
    "from sklearn.svm import SVR\n",
    "from sklearn.model_selection import train_test_split\n",
    "from sklearn.metrics import r2_score\n",
    "import seaborn as sn\n",
    "import matplotlib.pyplot as plt"
   ]
  },
  {
   "cell_type": "code",
   "execution_count": null,
   "id": "a9b295ad",
   "metadata": {},
   "outputs": [],
   "source": [
    "df = pd.read_csv('data/auction_stats.csv')"
   ]
  },
  {
   "cell_type": "code",
   "execution_count": null,
   "id": "b0de9ab2",
   "metadata": {},
   "outputs": [],
   "source": [
    "df"
   ]
  },
  {
   "cell_type": "code",
   "execution_count": null,
   "id": "02e1bfd6",
   "metadata": {},
   "outputs": [],
   "source": [
    "cols = ['isOverseas', 'isBatsman', 'isBowler', 'isWicketKeeper', 'isCapped', 'UncappedAndPerformed', 'Amount']\n",
    "df = df[cols]\n",
    "plt.figure(figsize=(12,10))\n",
    "x=df\n",
    "sn.heatmap(x.corr(), annot = True);\n",
    "plt.title(\"Heatmap depicting corr between features\");"
   ]
  },
  {
   "cell_type": "code",
   "execution_count": null,
   "id": "8bb16554",
   "metadata": {},
   "outputs": [],
   "source": [
    "models = [LinearRegression(), BayesianRidge(), SVR(C=1.0, epsilon=0.2), \n",
    "          XGBRegressor(n_estimators=1000, max_depth=7, eta=0.1, subsample=0.7, colsample_bytree=0.8),\n",
    "         RandomForestRegressor()]"
   ]
  },
  {
   "cell_type": "code",
   "execution_count": null,
   "id": "19349c04",
   "metadata": {},
   "outputs": [],
   "source": [
    "feat = ['isOverseas', 'isBatsman', 'isBowler', 'isWicketKeeper', 'isCapped', 'UncappedAndPerformed']\n",
    "X = df[feat]\n",
    "y= df['Amount']\n",
    "\n",
    "X_train, X_test, y_train, y_test = train_test_split(X, y, test_size=0.2, random_state=42)"
   ]
  },
  {
   "cell_type": "code",
   "execution_count": null,
   "id": "f40bec3f",
   "metadata": {},
   "outputs": [],
   "source": [
    "result = pd.DataFrame()\n",
    "for model in models:\n",
    "    model.fit(X_train, y_train)\n",
    "    a = model.score(X_train, y_train)\n",
    "    b = model.score(X_test, y_test)\n",
    "    result = result.append({'name': str(model), 'Train': a, 'Test': b}, ignore_index=True)"
   ]
  },
  {
   "cell_type": "code",
   "execution_count": null,
   "id": "f2d7f26a",
   "metadata": {},
   "outputs": [],
   "source": [
    "result"
   ]
  },
  {
   "cell_type": "code",
   "execution_count": null,
   "id": "c2c78ff4",
   "metadata": {},
   "outputs": [],
   "source": []
  }
 ],
 "metadata": {
  "kernelspec": {
   "display_name": "Python 3 (ipykernel)",
   "language": "python",
   "name": "python3"
  },
  "language_info": {
   "codemirror_mode": {
    "name": "ipython",
    "version": 3
   },
   "file_extension": ".py",
   "mimetype": "text/x-python",
   "name": "python",
   "nbconvert_exporter": "python",
   "pygments_lexer": "ipython3",
   "version": "3.9.7"
  }
 },
 "nbformat": 4,
 "nbformat_minor": 5
}
