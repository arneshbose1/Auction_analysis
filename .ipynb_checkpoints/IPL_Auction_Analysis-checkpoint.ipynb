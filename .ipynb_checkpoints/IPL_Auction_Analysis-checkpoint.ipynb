{
 "cells": [
  {
   "cell_type": "code",
   "execution_count": null,
   "id": "92746bea",
   "metadata": {
    "_cell_guid": "b1076dfc-b9ad-4769-8c92-a6c4dae69d19",
    "_uuid": "8f2839f25d086af736a60e9eeb907d3b93b6e0e5",
    "execution": {
     "iopub.execute_input": "2022-03-09T16:19:45.537934Z",
     "iopub.status.busy": "2022-03-09T16:19:45.536234Z",
     "iopub.status.idle": "2022-03-09T16:19:48.601261Z",
     "shell.execute_reply": "2022-03-09T16:19:48.601674Z",
     "shell.execute_reply.started": "2022-02-17T09:27:43.33986Z"
    },
    "papermill": {
     "duration": 3.096218,
     "end_time": "2022-03-09T16:19:48.602012",
     "exception": false,
     "start_time": "2022-03-09T16:19:45.505794",
     "status": "completed"
    },
    "tags": []
   },
   "outputs": [],
   "source": [
    "import numpy as np # linear algebra\n",
    "import pandas as pd \n",
    "\n",
    "import matplotlib.pyplot as plt\n",
    "import plotly.express as px\n",
    "import plotly.graph_objects as go\n",
    "from plotly.subplots import make_subplots\n",
    "import plotly.figure_factory as ff\n",
    "import plotly\n",
    "from plotly.offline import plot, iplot\n",
    "import warnings\n",
    "warnings.filterwarnings('ignore')"
   ]
  },
  {
   "cell_type": "code",
   "execution_count": null,
   "id": "d82c1e2d",
   "metadata": {
    "execution": {
     "iopub.execute_input": "2022-03-09T16:19:48.654975Z",
     "iopub.status.busy": "2022-03-09T16:19:48.654300Z",
     "iopub.status.idle": "2022-03-09T16:19:48.689347Z",
     "shell.execute_reply": "2022-03-09T16:19:48.689789Z",
     "shell.execute_reply.started": "2022-02-17T09:27:46.911434Z"
    },
    "papermill": {
     "duration": 0.063231,
     "end_time": "2022-03-09T16:19:48.689986",
     "exception": false,
     "start_time": "2022-03-09T16:19:48.626755",
     "status": "completed"
    },
    "tags": []
   },
   "outputs": [],
   "source": [
    "iplauction = pd.read_csv(\"data/auction.csv\")\n",
    "iplauction"
   ]
  },
  {
   "cell_type": "code",
   "execution_count": null,
   "id": "8aaa688b",
   "metadata": {
    "execution": {
     "iopub.execute_input": "2022-03-09T16:19:48.741507Z",
     "iopub.status.busy": "2022-03-09T16:19:48.740573Z",
     "iopub.status.idle": "2022-03-09T16:19:48.757191Z",
     "shell.execute_reply": "2022-03-09T16:19:48.757669Z",
     "shell.execute_reply.started": "2022-02-17T09:27:46.953254Z"
    },
    "papermill": {
     "duration": 0.043815,
     "end_time": "2022-03-09T16:19:48.757851",
     "exception": false,
     "start_time": "2022-03-09T16:19:48.714036",
     "status": "completed"
    },
    "tags": []
   },
   "outputs": [],
   "source": [
    "iplauction.isnull().sum()\n",
    "iplauction.dropna(inplace=True)\n",
    "iplauction.Year = iplauction.Year.apply(int)\n",
    "iplauction.Amount = iplauction.Amount.apply(int)"
   ]
  },
  {
   "cell_type": "code",
   "execution_count": null,
   "id": "9358a31a",
   "metadata": {
    "execution": {
     "iopub.execute_input": "2022-03-09T16:19:48.811305Z",
     "iopub.status.busy": "2022-03-09T16:19:48.810661Z",
     "iopub.status.idle": "2022-03-09T16:19:49.661279Z",
     "shell.execute_reply": "2022-03-09T16:19:49.661703Z",
     "shell.execute_reply.started": "2022-02-17T09:27:46.974123Z"
    },
    "papermill": {
     "duration": 0.879167,
     "end_time": "2022-03-09T16:19:49.661885",
     "exception": false,
     "start_time": "2022-03-09T16:19:48.782718",
     "status": "completed"
    },
    "tags": []
   },
   "outputs": [],
   "source": [
    "data = iplauction.groupby('Year')['Amount'].sum()\n",
    "fig = px.line(data, x = data.index, y = 'Amount', title = \"Overall Expense Each year\", text=data.index)\n",
    "fig.update_traces(textposition=\"top right\")\n",
    "fig.show()\n",
    "fig = px.bar(data, x = data.index, y = 'Amount', title = \"Overall Expense Each year\", text='Amount',color=data.index)\n",
    "#fig.update_traces(textposition=\"top right\")\n",
    "fig.show()\n"
   ]
  },
  {
   "cell_type": "code",
   "execution_count": null,
   "id": "3e5e1ebc",
   "metadata": {
    "execution": {
     "iopub.execute_input": "2022-03-09T16:19:50.023271Z",
     "iopub.status.busy": "2022-03-09T16:19:50.021376Z",
     "iopub.status.idle": "2022-03-09T16:19:50.222767Z",
     "shell.execute_reply": "2022-03-09T16:19:50.223215Z",
     "shell.execute_reply.started": "2022-02-17T09:27:48.191011Z"
    },
    "papermill": {
     "duration": 0.23654,
     "end_time": "2022-03-09T16:19:50.223386",
     "exception": false,
     "start_time": "2022-03-09T16:19:49.986846",
     "status": "completed"
    },
    "tags": []
   },
   "outputs": [],
   "source": [
    "data = pd.DataFrame(iplauction.groupby(['Team', 'Year'])['Amount'].sum()).reset_index()\n",
    "#fig = px.line(data, x='Year', y='Amount', color='Team', symbol='Team')\n",
    "fig = px.bar(data, x='Year', y='Amount', color='Team')#, symbol='Team')\n",
    "fig.update_layout(title_text = \"Overall comparision of different team spends\")\n",
    "fig.show()"
   ]
  },
  {
   "cell_type": "code",
   "execution_count": null,
   "id": "a022d1f3",
   "metadata": {},
   "outputs": [],
   "source": [
    "origins = iplauction['Player Origin'].unique()\n",
    "for origin in origins:\n",
    "    data = iplauction[iplauction['Player Origin'] == origin].groupby('Year')['Amount'].sum()\n",
    "    plt.plot(data, label = origin)\n",
    "\n",
    "plt.legend()\n",
    "plt.show"
   ]
  },
  {
   "cell_type": "code",
   "execution_count": null,
   "id": "8b5788dc",
   "metadata": {},
   "outputs": [],
   "source": [
    "roles= iplauction['Role'].unique()\n",
    "for role in roles:\n",
    "    data = iplauction[iplauction['Role'] == role].groupby('Year')['Amount'].sum()\n",
    "    plt.plot(data, label = role)\n",
    "\n",
    "plt.legend()\n",
    "plt.show"
   ]
  },
  {
   "cell_type": "code",
   "execution_count": null,
   "id": "7bb75561",
   "metadata": {},
   "outputs": [],
   "source": []
  }
 ],
 "metadata": {
  "kernelspec": {
   "display_name": "Python 3 (ipykernel)",
   "language": "python",
   "name": "python3"
  },
  "language_info": {
   "codemirror_mode": {
    "name": "ipython",
    "version": 3
   },
   "file_extension": ".py",
   "mimetype": "text/x-python",
   "name": "python",
   "nbconvert_exporter": "python",
   "pygments_lexer": "ipython3",
   "version": "3.9.7"
  },
  "papermill": {
   "default_parameters": {},
   "duration": 33.660963,
   "end_time": "2022-03-09T16:20:11.111343",
   "environment_variables": {},
   "exception": null,
   "input_path": "__notebook__.ipynb",
   "output_path": "__notebook__.ipynb",
   "parameters": {},
   "start_time": "2022-03-09T16:19:37.450380",
   "version": "2.3.3"
  }
 },
 "nbformat": 4,
 "nbformat_minor": 5
}
