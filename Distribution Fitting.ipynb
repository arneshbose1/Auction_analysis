{
 "cells": [
  {
   "cell_type": "code",
   "execution_count": 1,
   "id": "dffcd450",
   "metadata": {},
   "outputs": [],
   "source": [
    "%matplotlib inline\n",
    "import numpy as np\n",
    "from distfit import distfit\n",
    "import pandas as pd\n",
    "import matplotlib.pyplot as plt\n",
    "import time\n",
    "import math\n",
    "\n",
    "from scipy import stats\n",
    "\n",
    "import warnings\n",
    "warnings.filterwarnings(\"ignore\")\n",
    "\n",
    "\n",
    "ksN = 100           # Kolmogorov-Smirnov KS test for goodness of fit: samples\n",
    "ALPHA = 0.05        # significance level for hypothesis test"
   ]
  },
  {
   "cell_type": "code",
   "execution_count": 2,
   "id": "e0d0e5b8",
   "metadata": {},
   "outputs": [
    {
     "data": {
      "text/html": [
       "<div>\n",
       "<style scoped>\n",
       "    .dataframe tbody tr th:only-of-type {\n",
       "        vertical-align: middle;\n",
       "    }\n",
       "\n",
       "    .dataframe tbody tr th {\n",
       "        vertical-align: top;\n",
       "    }\n",
       "\n",
       "    .dataframe thead th {\n",
       "        text-align: right;\n",
       "    }\n",
       "</style>\n",
       "<table border=\"1\" class=\"dataframe\">\n",
       "  <thead>\n",
       "    <tr style=\"text-align: right;\">\n",
       "      <th></th>\n",
       "      <th>Name</th>\n",
       "      <th>Base</th>\n",
       "      <th>Sold</th>\n",
       "      <th>Team</th>\n",
       "      <th>Prev_team</th>\n",
       "      <th>Nationality</th>\n",
       "      <th>Role</th>\n",
       "    </tr>\n",
       "  </thead>\n",
       "  <tbody>\n",
       "    <tr>\n",
       "      <th>0</th>\n",
       "      <td>ISHAN KISHAN</td>\n",
       "      <td>2.0</td>\n",
       "      <td>15.25</td>\n",
       "      <td>MI</td>\n",
       "      <td>MI</td>\n",
       "      <td>Indian</td>\n",
       "      <td>Wicket Keeper</td>\n",
       "    </tr>\n",
       "    <tr>\n",
       "      <th>1</th>\n",
       "      <td>DEEPAK CHAHAR</td>\n",
       "      <td>2.0</td>\n",
       "      <td>14.00</td>\n",
       "      <td>CSK</td>\n",
       "      <td>CSK</td>\n",
       "      <td>Indian</td>\n",
       "      <td>Bowler</td>\n",
       "    </tr>\n",
       "    <tr>\n",
       "      <th>2</th>\n",
       "      <td>SHREYAS IYER</td>\n",
       "      <td>2.0</td>\n",
       "      <td>12.25</td>\n",
       "      <td>KKR</td>\n",
       "      <td>DC</td>\n",
       "      <td>Indian</td>\n",
       "      <td>Batsman</td>\n",
       "    </tr>\n",
       "    <tr>\n",
       "      <th>3</th>\n",
       "      <td>LIAM LIVINGSTONE</td>\n",
       "      <td>1.0</td>\n",
       "      <td>11.50</td>\n",
       "      <td>PBKS</td>\n",
       "      <td>RR</td>\n",
       "      <td>Overseas</td>\n",
       "      <td>All-Rounder</td>\n",
       "    </tr>\n",
       "    <tr>\n",
       "      <th>4</th>\n",
       "      <td>SHARDUL THAKUR</td>\n",
       "      <td>2.0</td>\n",
       "      <td>10.75</td>\n",
       "      <td>DC</td>\n",
       "      <td>CSK</td>\n",
       "      <td>Indian</td>\n",
       "      <td>Bowler</td>\n",
       "    </tr>\n",
       "  </tbody>\n",
       "</table>\n",
       "</div>"
      ],
      "text/plain": [
       "               Name  Base   Sold  Team Prev_team Nationality           Role\n",
       "0      ISHAN KISHAN   2.0  15.25    MI        MI      Indian  Wicket Keeper\n",
       "1     DEEPAK CHAHAR   2.0  14.00   CSK       CSK      Indian         Bowler\n",
       "2      SHREYAS IYER   2.0  12.25   KKR        DC      Indian        Batsman\n",
       "3  LIAM LIVINGSTONE   1.0  11.50  PBKS        RR    Overseas    All-Rounder\n",
       "4    SHARDUL THAKUR   2.0  10.75    DC       CSK      Indian         Bowler"
      ]
     },
     "execution_count": 2,
     "metadata": {},
     "output_type": "execute_result"
    }
   ],
   "source": [
    "df = pd.read_csv(\"auction_2022.csv\")\n",
    "df.head()"
   ]
  },
  {
   "cell_type": "code",
   "execution_count": 3,
   "id": "be7dbfed",
   "metadata": {},
   "outputs": [
    {
     "name": "stdout",
     "output_type": "stream",
     "text": [
      "[distfit] >fit..\n",
      "[distfit] >transform..\n",
      "[distfit] >[norm      ] [0.00 sec] [RSS: 1.5310564] [loc=2.704 scale=3.315]\n",
      "[distfit] >[expon     ] [0.00 sec] [RSS: 0.9613756] [loc=0.200 scale=2.504]\n",
      "[distfit] >[pareto    ] [0.03 sec] [RSS: 0.4101349] [loc=-1.050 scale=1.250]\n",
      "[distfit] >[dweibull  ] [0.04 sec] [RSS: 0.8956446] [loc=0.200 scale=1.199]\n",
      "[distfit] >[t         ] [0.02 sec] [RSS: 0.7190571] [loc=0.482 scale=0.515]\n",
      "[distfit] >[genextreme] [0.18 sec] [RSS: 0.8679646] [loc=0.224 scale=0.132]\n",
      "[distfit] >[gamma     ] [0.06 sec] [RSS: 0.2874139] [loc=0.200 scale=3.352]\n",
      "[distfit] >[lognorm   ] [0.11 sec] [RSS: 0.9366827] [loc=0.200 scale=0.203]\n",
      "[distfit] >[beta      ] [0.10 sec] [RSS: 1.0446992] [loc=0.200 scale=19.683]\n",
      "[distfit] >[uniform   ] [0.0 sec] [RSS: 1.6532981] [loc=0.200 scale=15.050]\n",
      "[distfit] >[loggamma  ] [0.05 sec] [RSS: 1.5360474] [loc=-1091.219 scale=145.986]\n",
      "[distfit] >Compute confidence interval [parametric]\n"
     ]
    },
    {
     "data": {
      "text/plain": [
       "{'model': {'distr': <scipy.stats._continuous_distns.gamma_gen at 0x1504c4fb610>,\n",
       "  'stats': 'RSS',\n",
       "  'params': (0.3740107850594212, 0.19999999999999998, 3.3519481410433043),\n",
       "  'name': 'gamma',\n",
       "  'model': <scipy.stats._distn_infrastructure.rv_frozen at 0x1504c776d90>,\n",
       "  'score': 0.287413944465403,\n",
       "  'loc': 0.19999999999999998,\n",
       "  'scale': 3.3519481410433043,\n",
       "  'arg': (0.3740107850594212,),\n",
       "  'CII_min_alpha': 0.2008131114786849,\n",
       "  'CII_max_alpha': 5.53042171328839},\n",
       " 'summary':          distr     score  LLE          loc       scale  \\\n",
       " 0        gamma  0.287414  NaN          0.2    3.351948   \n",
       " 1       pareto  0.410135  NaN    -1.050484    1.250484   \n",
       " 2            t  0.719057  NaN     0.481725    0.514743   \n",
       " 3   genextreme  0.867965  NaN     0.223721    0.132326   \n",
       " 4     dweibull  0.895645  NaN          0.2    1.199415   \n",
       " 5      lognorm  0.936683  NaN          0.2    0.202999   \n",
       " 6        expon  0.961376  NaN          0.2    2.504412   \n",
       " 7         beta  1.044699  NaN          0.2    19.68293   \n",
       " 8         norm  1.531056  NaN     2.704412    3.315047   \n",
       " 9     loggamma  1.536047  NaN -1091.219168  145.985706   \n",
       " 10     uniform  1.653298  NaN          0.2       15.05   \n",
       " \n",
       "                                         arg  \n",
       " 0                     (0.3740107850594212,)  \n",
       " 1                     (1.2961365596015777,)  \n",
       " 2                     (0.6686582284417252,)  \n",
       " 3                     (-5.578283116824423,)  \n",
       " 4                    (0.42423452017393487,)  \n",
       " 5                      (7.017216153108864,)  \n",
       " 6                                        ()  \n",
       " 7   (0.579990122427233, 1.4475887310433677)  \n",
       " 8                                        ()  \n",
       " 9                     (1796.8723070013516,)  \n",
       " 10                                       ()  ,\n",
       " 'histdata': (array([1.27027555, 0.26056934, 0.17914142, 0.06514234, 0.14657026,\n",
       "         0.26056934, 0.        , 0.13028467, 0.01628558, 0.06514234,\n",
       "         0.01628558, 0.04885675, 0.04885675, 0.06514234, 0.01628558,\n",
       "         0.01628558, 0.03257117, 0.01628558, 0.01628558, 0.01628558,\n",
       "         0.08142792, 0.04885675, 0.01628558, 0.03257117, 0.01628558,\n",
       "         0.0977135 , 0.04885675, 0.03257117, 0.03257117, 0.03257117,\n",
       "         0.01628558, 0.        , 0.04885675, 0.        , 0.        ,\n",
       "         0.06514234, 0.        , 0.01628558, 0.        , 0.        ,\n",
       "         0.01628558, 0.        , 0.        , 0.        , 0.        ,\n",
       "         0.01628558, 0.        , 0.        , 0.        , 0.01628558]),\n",
       "  array([ 0.3505,  0.6515,  0.9525,  1.2535,  1.5545,  1.8555,  2.1565,\n",
       "          2.4575,  2.7585,  3.0595,  3.3605,  3.6615,  3.9625,  4.2635,\n",
       "          4.5645,  4.8655,  5.1665,  5.4675,  5.7685,  6.0695,  6.3705,\n",
       "          6.6715,  6.9725,  7.2735,  7.5745,  7.8755,  8.1765,  8.4775,\n",
       "          8.7785,  9.0795,  9.3805,  9.6815,  9.9825, 10.2835, 10.5845,\n",
       "         10.8855, 11.1865, 11.4875, 11.7885, 12.0895, 12.3905, 12.6915,\n",
       "         12.9925, 13.2935, 13.5945, 13.8955, 14.1965, 14.4975, 14.7985,\n",
       "         15.0995])),\n",
       " 'size': 204,\n",
       " 'alpha': 0.05,\n",
       " 'stats': 'RSS',\n",
       " 'bins': 50,\n",
       " 'bound': 'both',\n",
       " 'distr': 'popular',\n",
       " 'method': 'parametric',\n",
       " 'multtest': 'fdr_bh',\n",
       " 'n_perm': 10000,\n",
       " 'smooth': None,\n",
       " 'weighted': True,\n",
       " 'f': 1.5}"
      ]
     },
     "execution_count": 3,
     "metadata": {},
     "output_type": "execute_result"
    }
   ],
   "source": [
    "X = df['Sold'][:204]\n",
    "dist = distfit()\n",
    "dist.fit_transform(X)"
   ]
  },
  {
   "cell_type": "code",
   "execution_count": 4,
   "id": "7af16aa9",
   "metadata": {},
   "outputs": [
    {
     "name": "stdout",
     "output_type": "stream",
     "text": [
      "         distr     score  LLE          loc       scale  \\\n",
      "0        gamma  0.287414  NaN          0.2    3.351948   \n",
      "1       pareto  0.410135  NaN    -1.050484    1.250484   \n",
      "2            t  0.719057  NaN     0.481725    0.514743   \n",
      "3   genextreme  0.867965  NaN     0.223721    0.132326   \n",
      "4     dweibull  0.895645  NaN          0.2    1.199415   \n",
      "5      lognorm  0.936683  NaN          0.2    0.202999   \n",
      "6        expon  0.961376  NaN          0.2    2.504412   \n",
      "7         beta  1.044699  NaN          0.2    19.68293   \n",
      "8         norm  1.531056  NaN     2.704412    3.315047   \n",
      "9     loggamma  1.536047  NaN -1091.219168  145.985706   \n",
      "10     uniform  1.653298  NaN          0.2       15.05   \n",
      "\n",
      "                                        arg  \n",
      "0                     (0.3740107850594212,)  \n",
      "1                     (1.2961365596015777,)  \n",
      "2                     (0.6686582284417252,)  \n",
      "3                     (-5.578283116824423,)  \n",
      "4                    (0.42423452017393487,)  \n",
      "5                      (7.017216153108864,)  \n",
      "6                                        ()  \n",
      "7   (0.579990122427233, 1.4475887310433677)  \n",
      "8                                        ()  \n",
      "9                     (1796.8723070013516,)  \n",
      "10                                       ()  \n"
     ]
    }
   ],
   "source": [
    "print(dist.summary)"
   ]
  },
  {
   "cell_type": "code",
   "execution_count": 5,
   "id": "23fd3b47",
   "metadata": {},
   "outputs": [
    {
     "name": "stdout",
     "output_type": "stream",
     "text": [
      "[distfit] >plot..\n"
     ]
    },
    {
     "data": {
      "text/plain": [
       "(<Figure size 720x576 with 1 Axes>,\n",
       " <AxesSubplot:title={'center':'\\ngamma\\na=0.374011, loc=0.2, scale=3.35195'}, xlabel='Values', ylabel='Frequency'>)"
      ]
     },
     "execution_count": 5,
     "metadata": {},
     "output_type": "execute_result"
    },
    {
     "data": {
      "image/png": "[encoded data removed]",
      "text/plain": [
       "<Figure size 720x576 with 1 Axes>"
      ]
     },
     "metadata": {
      "needs_background": "light"
     },
     "output_type": "display_data"
    }
   ],
   "source": [
    "# Plot results\n",
    "dist.plot()"
   ]
  },
  {
   "cell_type": "code",
   "execution_count": 6,
   "id": "7f7c11ce",
   "metadata": {},
   "outputs": [
    {
     "name": "stdout",
     "output_type": "stream",
     "text": [
      "[distfit] >plot summary..\n"
     ]
    },
    {
     "data": {
      "text/plain": [
       "(<Figure size 1080x576 with 1 Axes>,\n",
       " <AxesSubplot:title={'center':'Best fit: gamma'}, xlabel='Distribution name', ylabel='RSS (lower is better)'>)"
      ]
     },
     "execution_count": 6,
     "metadata": {},
     "output_type": "execute_result"
    },
    {
     "data": {
      "image/png": "[encoded data removed]",
      "text/plain": [
       "<Figure size 1080x576 with 1 Axes>"
      ]
     },
     "metadata": {
      "needs_background": "light"
     },
     "output_type": "display_data"
    }
   ],
   "source": [
    "dist.plot_summary()"
   ]
  },
  {
   "cell_type": "code",
   "execution_count": 7,
   "id": "c8bda0a4",
   "metadata": {},
   "outputs": [
    {
     "data": {
      "text/html": [
       "<div>\n",
       "<style scoped>\n",
       "    .dataframe tbody tr th:only-of-type {\n",
       "        vertical-align: middle;\n",
       "    }\n",
       "\n",
       "    .dataframe tbody tr th {\n",
       "        vertical-align: top;\n",
       "    }\n",
       "\n",
       "    .dataframe thead th {\n",
       "        text-align: right;\n",
       "    }\n",
       "</style>\n",
       "<table border=\"1\" class=\"dataframe\">\n",
       "  <thead>\n",
       "    <tr style=\"text-align: right;\">\n",
       "      <th></th>\n",
       "      <th>Player</th>\n",
       "      <th>Role</th>\n",
       "      <th>Team</th>\n",
       "      <th>Year</th>\n",
       "      <th>Player Origin</th>\n",
       "      <th>Amt</th>\n",
       "      <th>Amt_inf</th>\n",
       "    </tr>\n",
       "  </thead>\n",
       "  <tbody>\n",
       "    <tr>\n",
       "      <th>0</th>\n",
       "      <td>Abhishek Nayar</td>\n",
       "      <td>All-Rounder</td>\n",
       "      <td>Pune Warriors India</td>\n",
       "      <td>2013</td>\n",
       "      <td>Indian</td>\n",
       "      <td>5.0625</td>\n",
       "      <td>7.7478</td>\n",
       "    </tr>\n",
       "    <tr>\n",
       "      <th>1</th>\n",
       "      <td>Ajantha Mendis</td>\n",
       "      <td>Bowler</td>\n",
       "      <td>Pune Warriors India</td>\n",
       "      <td>2013</td>\n",
       "      <td>Overseas</td>\n",
       "      <td>5.4375</td>\n",
       "      <td>8.3217</td>\n",
       "    </tr>\n",
       "    <tr>\n",
       "      <th>2</th>\n",
       "      <td>Akila Dananjaya</td>\n",
       "      <td>All-Rounder</td>\n",
       "      <td>Chennai Super Kings</td>\n",
       "      <td>2013</td>\n",
       "      <td>Overseas</td>\n",
       "      <td>0.1500</td>\n",
       "      <td>0.2296</td>\n",
       "    </tr>\n",
       "    <tr>\n",
       "      <th>3</th>\n",
       "      <td>Ben Laughlin</td>\n",
       "      <td>Bowler</td>\n",
       "      <td>Chennai Super Kings</td>\n",
       "      <td>2013</td>\n",
       "      <td>Overseas</td>\n",
       "      <td>0.1500</td>\n",
       "      <td>0.2296</td>\n",
       "    </tr>\n",
       "    <tr>\n",
       "      <th>4</th>\n",
       "      <td>Christopher Barnwell</td>\n",
       "      <td>All-Rounder</td>\n",
       "      <td>Royal Challengers Bangalore</td>\n",
       "      <td>2013</td>\n",
       "      <td>Overseas</td>\n",
       "      <td>0.3750</td>\n",
       "      <td>0.5739</td>\n",
       "    </tr>\n",
       "  </tbody>\n",
       "</table>\n",
       "</div>"
      ],
      "text/plain": [
       "                 Player         Role                         Team  Year  \\\n",
       "0        Abhishek Nayar  All-Rounder          Pune Warriors India  2013   \n",
       "1        Ajantha Mendis       Bowler          Pune Warriors India  2013   \n",
       "2       Akila Dananjaya  All-Rounder          Chennai Super Kings  2013   \n",
       "3          Ben Laughlin       Bowler          Chennai Super Kings  2013   \n",
       "4  Christopher Barnwell  All-Rounder  Royal Challengers Bangalore  2013   \n",
       "\n",
       "  Player Origin     Amt  Amt_inf  \n",
       "0        Indian  5.0625   7.7478  \n",
       "1      Overseas  5.4375   8.3217  \n",
       "2      Overseas  0.1500   0.2296  \n",
       "3      Overseas  0.1500   0.2296  \n",
       "4      Overseas  0.3750   0.5739  "
      ]
     },
     "execution_count": 7,
     "metadata": {},
     "output_type": "execute_result"
    }
   ],
   "source": [
    "df_pre = pd.read_csv(\"auction_pre2022.csv\")\n",
    "df_pre.head()"
   ]
  },
  {
   "cell_type": "code",
   "execution_count": 9,
   "id": "96b597a6",
   "metadata": {},
   "outputs": [],
   "source": [
    "X_train = df_pre['Amt_inf']"
   ]
  },
  {
   "cell_type": "code",
   "execution_count": 10,
   "id": "60bc5592",
   "metadata": {},
   "outputs": [
    {
     "data": {
      "text/plain": [
       "(0.47071423971890114, 0.12739999999999999, 3.977978533842977)"
      ]
     },
     "execution_count": 10,
     "metadata": {},
     "output_type": "execute_result"
    }
   ],
   "source": [
    "from scipy.stats import gamma\n",
    "gamma.fit(X_train)"
   ]
  },
  {
   "cell_type": "code",
   "execution_count": null,
   "id": "a73e3e01",
   "metadata": {},
   "outputs": [],
   "source": []
  }
 ],
 "metadata": {
  "kernelspec": {
   "display_name": "Python 3 (ipykernel)",
   "language": "python",
   "name": "python3"
  },
  "language_info": {
   "codemirror_mode": {
    "name": "ipython",
    "version": 3
   },
   "file_extension": ".py",
   "mimetype": "text/x-python",
   "name": "python",
   "nbconvert_exporter": "python",
   "pygments_lexer": "ipython3",
   "version": "3.9.7"
  }
 },
 "nbformat": 4,
 "nbformat_minor": 5
}
